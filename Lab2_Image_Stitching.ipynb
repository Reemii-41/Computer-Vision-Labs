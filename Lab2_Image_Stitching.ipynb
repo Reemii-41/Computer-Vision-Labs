{
 "cells": [
  {
   "cell_type": "code",
   "execution_count": 1,
   "id": "e6e6982a",
   "metadata": {},
   "outputs": [],
   "source": [
    "import cv2\n",
    "import imutils"
   ]
  },
  {
   "cell_type": "code",
   "execution_count": 10,
   "id": "61fda0cd",
   "metadata": {},
   "outputs": [],
   "source": [
    "imageA = cv2.imread(\"2.jpg\")\n",
    "imageB = cv2.imread(\"4.jpg\")\n",
    "\n",
    "imageA = imutils.resize(imageA, width=350)\n",
    "imageB = imutils.resize(imageB, width=350)"
   ]
  },
  {
   "cell_type": "code",
   "execution_count": 11,
   "id": "fb479685",
   "metadata": {},
   "outputs": [],
   "source": [
    "stitcher = cv2.createStitcher() if imutils.is_cv3() else cv2.Stitcher_create()\n",
    "(result, vis) = stitcher.stitch([imageA, imageB])"
   ]
  },
  {
   "cell_type": "code",
   "execution_count": 12,
   "id": "421b7967",
   "metadata": {},
   "outputs": [],
   "source": [
    "# show the images\n",
    "cv2.imshow(\"Image A\", imageA)\n",
    "cv2.imshow(\"Image B\", imageB)\n",
    "cv2.imshow(\"Keypoint Matches\", vis)\n",
    "cv2.imshow(\"Result\", result)\n",
    "cv2.waitKey(0)\n",
    "cv2.destroyAllWindows()"
   ]
  },
  {
   "cell_type": "code",
   "execution_count": null,
   "id": "cb5a3f59",
   "metadata": {},
   "outputs": [],
   "source": []
  }
 ],
 "metadata": {
  "kernelspec": {
   "display_name": "Python 3 (ipykernel)",
   "language": "python",
   "name": "python3"
  },
  "language_info": {
   "codemirror_mode": {
    "name": "ipython",
    "version": 3
   },
   "file_extension": ".py",
   "mimetype": "text/x-python",
   "name": "python",
   "nbconvert_exporter": "python",
   "pygments_lexer": "ipython3",
   "version": "3.9.12"
  }
 },
 "nbformat": 4,
 "nbformat_minor": 5
}
